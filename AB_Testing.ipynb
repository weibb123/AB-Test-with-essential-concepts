{
  "nbformat": 4,
  "nbformat_minor": 0,
  "metadata": {
    "colab": {
      "provenance": [],
      "include_colab_link": true
    },
    "kernelspec": {
      "name": "python3",
      "display_name": "Python 3"
    },
    "language_info": {
      "name": "python"
    }
  },
  "cells": [
    {
      "cell_type": "markdown",
      "metadata": {
        "id": "view-in-github",
        "colab_type": "text"
      },
      "source": [
        "<a href=\"https://colab.research.google.com/github/weibb123/AB-Test-with-essential-concepts/blob/main/AB_Testing.ipynb\" target=\"_parent\"><img src=\"https://colab.research.google.com/assets/colab-badge.svg\" alt=\"Open In Colab\"/></a>"
      ]
    },
    {
      "cell_type": "markdown",
      "source": [
        "# Introduction\n",
        "\n",
        "Suppose we have a dataset that is in control group and treatment group with different landing page. We want to run an experiment that randomly split user into one of the group. \n",
        "\n",
        "Control group -> user with old page\n",
        "\n",
        "Treatment group -> user with new page\n",
        "\n",
        "We want to figure out if new page has a significantly increase in user conversion after being exposed to new vs old page.\n",
        "\n",
        "\n"
      ],
      "metadata": {
        "id": "uNo-4UxwpbPB"
      }
    },
    {
      "cell_type": "markdown",
      "source": [
        "# Import"
      ],
      "metadata": {
        "id": "GjeZpEJOpcgr"
      }
    },
    {
      "cell_type": "code",
      "execution_count": 1,
      "metadata": {
        "id": "AD5QqsXipZoA"
      },
      "outputs": [],
      "source": [
        "import pandas as pd\n",
        "from scipy import stats\n",
        "from scipy.stats import t\n",
        "import numpy as np\n",
        "import statsmodels.api as sm\n",
        "import statsmodels.stats.power as smp"
      ]
    },
    {
      "cell_type": "code",
      "source": [
        "data = pd.read_csv(\"https://raw.githubusercontent.com/patiegm/Udacity_Data_Analysis_Nanodegree/master/Analyze%20AB%20Test%20Results/ab_data.csv\")\n",
        "data.head(5)"
      ],
      "metadata": {
        "id": "2vBOdharpnGL",
        "colab": {
          "base_uri": "https://localhost:8080/",
          "height": 206
        },
        "outputId": "c6f1a7db-3ace-4a95-f0d5-08a76ef57b62"
      },
      "execution_count": 2,
      "outputs": [
        {
          "output_type": "execute_result",
          "data": {
            "text/plain": [
              "   user_id                   timestamp      group landing_page  converted\n",
              "0   851104  2017-01-21 22:11:48.556739    control     old_page          0\n",
              "1   804228  2017-01-12 08:01:45.159739    control     old_page          0\n",
              "2   661590  2017-01-11 16:55:06.154213  treatment     new_page          0\n",
              "3   853541  2017-01-08 18:28:03.143765  treatment     new_page          0\n",
              "4   864975  2017-01-21 01:52:26.210827    control     old_page          1"
            ],
            "text/html": [
              "\n",
              "  <div id=\"df-71ef109a-d8e9-477d-9fbb-279eba479baf\">\n",
              "    <div class=\"colab-df-container\">\n",
              "      <div>\n",
              "<style scoped>\n",
              "    .dataframe tbody tr th:only-of-type {\n",
              "        vertical-align: middle;\n",
              "    }\n",
              "\n",
              "    .dataframe tbody tr th {\n",
              "        vertical-align: top;\n",
              "    }\n",
              "\n",
              "    .dataframe thead th {\n",
              "        text-align: right;\n",
              "    }\n",
              "</style>\n",
              "<table border=\"1\" class=\"dataframe\">\n",
              "  <thead>\n",
              "    <tr style=\"text-align: right;\">\n",
              "      <th></th>\n",
              "      <th>user_id</th>\n",
              "      <th>timestamp</th>\n",
              "      <th>group</th>\n",
              "      <th>landing_page</th>\n",
              "      <th>converted</th>\n",
              "    </tr>\n",
              "  </thead>\n",
              "  <tbody>\n",
              "    <tr>\n",
              "      <th>0</th>\n",
              "      <td>851104</td>\n",
              "      <td>2017-01-21 22:11:48.556739</td>\n",
              "      <td>control</td>\n",
              "      <td>old_page</td>\n",
              "      <td>0</td>\n",
              "    </tr>\n",
              "    <tr>\n",
              "      <th>1</th>\n",
              "      <td>804228</td>\n",
              "      <td>2017-01-12 08:01:45.159739</td>\n",
              "      <td>control</td>\n",
              "      <td>old_page</td>\n",
              "      <td>0</td>\n",
              "    </tr>\n",
              "    <tr>\n",
              "      <th>2</th>\n",
              "      <td>661590</td>\n",
              "      <td>2017-01-11 16:55:06.154213</td>\n",
              "      <td>treatment</td>\n",
              "      <td>new_page</td>\n",
              "      <td>0</td>\n",
              "    </tr>\n",
              "    <tr>\n",
              "      <th>3</th>\n",
              "      <td>853541</td>\n",
              "      <td>2017-01-08 18:28:03.143765</td>\n",
              "      <td>treatment</td>\n",
              "      <td>new_page</td>\n",
              "      <td>0</td>\n",
              "    </tr>\n",
              "    <tr>\n",
              "      <th>4</th>\n",
              "      <td>864975</td>\n",
              "      <td>2017-01-21 01:52:26.210827</td>\n",
              "      <td>control</td>\n",
              "      <td>old_page</td>\n",
              "      <td>1</td>\n",
              "    </tr>\n",
              "  </tbody>\n",
              "</table>\n",
              "</div>\n",
              "      <button class=\"colab-df-convert\" onclick=\"convertToInteractive('df-71ef109a-d8e9-477d-9fbb-279eba479baf')\"\n",
              "              title=\"Convert this dataframe to an interactive table.\"\n",
              "              style=\"display:none;\">\n",
              "        \n",
              "  <svg xmlns=\"http://www.w3.org/2000/svg\" height=\"24px\"viewBox=\"0 0 24 24\"\n",
              "       width=\"24px\">\n",
              "    <path d=\"M0 0h24v24H0V0z\" fill=\"none\"/>\n",
              "    <path d=\"M18.56 5.44l.94 2.06.94-2.06 2.06-.94-2.06-.94-.94-2.06-.94 2.06-2.06.94zm-11 1L8.5 8.5l.94-2.06 2.06-.94-2.06-.94L8.5 2.5l-.94 2.06-2.06.94zm10 10l.94 2.06.94-2.06 2.06-.94-2.06-.94-.94-2.06-.94 2.06-2.06.94z\"/><path d=\"M17.41 7.96l-1.37-1.37c-.4-.4-.92-.59-1.43-.59-.52 0-1.04.2-1.43.59L10.3 9.45l-7.72 7.72c-.78.78-.78 2.05 0 2.83L4 21.41c.39.39.9.59 1.41.59.51 0 1.02-.2 1.41-.59l7.78-7.78 2.81-2.81c.8-.78.8-2.07 0-2.86zM5.41 20L4 18.59l7.72-7.72 1.47 1.35L5.41 20z\"/>\n",
              "  </svg>\n",
              "      </button>\n",
              "      \n",
              "  <style>\n",
              "    .colab-df-container {\n",
              "      display:flex;\n",
              "      flex-wrap:wrap;\n",
              "      gap: 12px;\n",
              "    }\n",
              "\n",
              "    .colab-df-convert {\n",
              "      background-color: #E8F0FE;\n",
              "      border: none;\n",
              "      border-radius: 50%;\n",
              "      cursor: pointer;\n",
              "      display: none;\n",
              "      fill: #1967D2;\n",
              "      height: 32px;\n",
              "      padding: 0 0 0 0;\n",
              "      width: 32px;\n",
              "    }\n",
              "\n",
              "    .colab-df-convert:hover {\n",
              "      background-color: #E2EBFA;\n",
              "      box-shadow: 0px 1px 2px rgba(60, 64, 67, 0.3), 0px 1px 3px 1px rgba(60, 64, 67, 0.15);\n",
              "      fill: #174EA6;\n",
              "    }\n",
              "\n",
              "    [theme=dark] .colab-df-convert {\n",
              "      background-color: #3B4455;\n",
              "      fill: #D2E3FC;\n",
              "    }\n",
              "\n",
              "    [theme=dark] .colab-df-convert:hover {\n",
              "      background-color: #434B5C;\n",
              "      box-shadow: 0px 1px 3px 1px rgba(0, 0, 0, 0.15);\n",
              "      filter: drop-shadow(0px 1px 2px rgba(0, 0, 0, 0.3));\n",
              "      fill: #FFFFFF;\n",
              "    }\n",
              "  </style>\n",
              "\n",
              "      <script>\n",
              "        const buttonEl =\n",
              "          document.querySelector('#df-71ef109a-d8e9-477d-9fbb-279eba479baf button.colab-df-convert');\n",
              "        buttonEl.style.display =\n",
              "          google.colab.kernel.accessAllowed ? 'block' : 'none';\n",
              "\n",
              "        async function convertToInteractive(key) {\n",
              "          const element = document.querySelector('#df-71ef109a-d8e9-477d-9fbb-279eba479baf');\n",
              "          const dataTable =\n",
              "            await google.colab.kernel.invokeFunction('convertToInteractive',\n",
              "                                                     [key], {});\n",
              "          if (!dataTable) return;\n",
              "\n",
              "          const docLinkHtml = 'Like what you see? Visit the ' +\n",
              "            '<a target=\"_blank\" href=https://colab.research.google.com/notebooks/data_table.ipynb>data table notebook</a>'\n",
              "            + ' to learn more about interactive tables.';\n",
              "          element.innerHTML = '';\n",
              "          dataTable['output_type'] = 'display_data';\n",
              "          await google.colab.output.renderOutput(dataTable, element);\n",
              "          const docLink = document.createElement('div');\n",
              "          docLink.innerHTML = docLinkHtml;\n",
              "          element.appendChild(docLink);\n",
              "        }\n",
              "      </script>\n",
              "    </div>\n",
              "  </div>\n",
              "  "
            ]
          },
          "metadata": {},
          "execution_count": 2
        }
      ]
    },
    {
      "cell_type": "markdown",
      "source": [
        "# Data Processing"
      ],
      "metadata": {
        "id": "gj4faIj2Wbvf"
      }
    },
    {
      "cell_type": "code",
      "source": [
        "def check_mixed(df):\n",
        "  df1 = df[['user_id', 'group']].groupby(['user_id']).nunique().reset_index() # count unique number of groups that a user was assigned to\n",
        "  df2 = df1[df1['group'] >1]['user_id'].count()  # count number of users assigned to both group \n",
        "  print(df2)\n",
        "\n",
        "check_mixed(data)"
      ],
      "metadata": {
        "colab": {
          "base_uri": "https://localhost:8080/"
        },
        "id": "j-IbmCuRWaVs",
        "outputId": "0fcd9581-a245-4b3d-a5b6-cf6fa7bc9464"
      },
      "execution_count": 3,
      "outputs": [
        {
          "output_type": "stream",
          "name": "stdout",
          "text": [
            "1895\n"
          ]
        }
      ]
    },
    {
      "cell_type": "code",
      "source": [
        "def remove_mixed(df):\n",
        "  df1 = df[['user_id', 'group']].groupby(['user_id']).nunique().reset_index() # count the unique number of groups that a user was assigned to\n",
        "  df2 = pd.merge(df, df1, on=['user_id'], how='left') # select all rows from left table and matched values between 2 df\n",
        "  return df2[df2['group_y'] == 1][['user_id', 'timestamp', 'group_x', 'landing_page', 'converted']]\\\n",
        "  .rename(columns={'group_x':'group'}) # only return users assigned to either treatment or control"
      ],
      "metadata": {
        "id": "vKv5-Ce3W4ff"
      },
      "execution_count": 4,
      "outputs": []
    },
    {
      "cell_type": "code",
      "source": [
        "data1 = remove_mixed(data)"
      ],
      "metadata": {
        "id": "rMREWDTLXzzb"
      },
      "execution_count": 5,
      "outputs": []
    },
    {
      "cell_type": "code",
      "source": [
        "check_mixed(data1)"
      ],
      "metadata": {
        "colab": {
          "base_uri": "https://localhost:8080/"
        },
        "id": "LMEjpb-GX1fq",
        "outputId": "8ffeb4b8-656f-468d-90c4-0ec97b18022f"
      },
      "execution_count": 6,
      "outputs": [
        {
          "output_type": "stream",
          "name": "stdout",
          "text": [
            "0\n"
          ]
        }
      ]
    },
    {
      "cell_type": "code",
      "source": [
        "# make sure to count number of users exposed to treatment OR\n",
        "# numer of users exposed to control. \n",
        "# we want to make sure users are independent of interference since this is essential in A/B testing to prevent overestimate or underestimate\n",
        "\n",
        "def check_interfere(df):\n",
        "  # count number of users in control(old_page) exposed to treatment(new_page)\n",
        "  print(df[(df['group'] == 'control')&(df['landing_page'] == 'new_page')]['user_id'].count())\n",
        "  # count number of users in treatment(new_page) exposed to control(old_page)\n",
        "  print(df[(df['group'] == 'treatment')&(df['landing_page'] == 'old_page')]['user_id'].count())"
      ],
      "metadata": {
        "id": "KIIW2bvRX_CY"
      },
      "execution_count": 7,
      "outputs": []
    },
    {
      "cell_type": "code",
      "source": [
        "check_interfere(data1)"
      ],
      "metadata": {
        "colab": {
          "base_uri": "https://localhost:8080/"
        },
        "id": "ZkFnMDeBY3v8",
        "outputId": "c58f90e8-240b-43ee-e1dd-c828fd3ee7cd"
      },
      "execution_count": 8,
      "outputs": [
        {
          "output_type": "stream",
          "name": "stdout",
          "text": [
            "1007\n",
            "991\n"
          ]
        }
      ]
    },
    {
      "cell_type": "code",
      "source": [
        "def remove_interfere(df):\n",
        "  # identify users in control(old_page) exposed to treatment(new_page)\n",
        "  df1 = df[(df['group'] == 'control')&(df['landing_page'] == 'new_page')][['user_id', 'group']]\n",
        "  # identify users in treatment(new_page) exposed to control(old_page)\n",
        "  df2 = df[(df['group'] == 'treatment')&(df['landing_page'] == 'old_page')][['user_id', 'group']]\n",
        "  \n",
        "  # concat the dataframes together\n",
        "  df3 = pd.concat([df1, df2])\n",
        "  df4 = pd.merge(df, df3, on=['user_id'], how='left')\n",
        "  return df4[df4['group_y'].isna()][['user_id', 'timestamp', 'group_x', 'landing_page', 'converted']]\\\n",
        "  .rename(columns={'group_x': 'group'})\n",
        "  # only return users with the correct exposure"
      ],
      "metadata": {
        "id": "MvCKHum-Y6Ek"
      },
      "execution_count": 9,
      "outputs": []
    },
    {
      "cell_type": "code",
      "source": [
        "data2 = remove_interfere(data1)"
      ],
      "metadata": {
        "id": "n2SFxpyNZ9tk"
      },
      "execution_count": 10,
      "outputs": []
    },
    {
      "cell_type": "code",
      "source": [
        "check_interfere(data2)"
      ],
      "metadata": {
        "colab": {
          "base_uri": "https://localhost:8080/"
        },
        "id": "1BK4RwmWaAZ7",
        "outputId": "13fd0921-1c85-484b-c824-9d0bfcebc92e"
      },
      "execution_count": 11,
      "outputs": [
        {
          "output_type": "stream",
          "name": "stdout",
          "text": [
            "0\n",
            "0\n"
          ]
        }
      ]
    },
    {
      "cell_type": "code",
      "source": [
        "def check_multi_exposes(df):\n",
        "  # count the number of exposures that a user had\n",
        "  df1 = df[['user_id', 'group']].groupby(['user_id']).count().reset_index()\n",
        "  # count the number of users that had multiple exposures\n",
        "  df2 = df1[df1['group'] > 1]['user_id'].count()\n",
        "\n",
        "  print(df2)\n"
      ],
      "metadata": {
        "id": "8sQqVkbeaFrk"
      },
      "execution_count": 12,
      "outputs": []
    },
    {
      "cell_type": "code",
      "source": [
        "check_multi_exposes(data2)"
      ],
      "metadata": {
        "colab": {
          "base_uri": "https://localhost:8080/"
        },
        "id": "ZXFg0qqphmKO",
        "outputId": "9a318938-6182-4ab9-fab1-6f8da51974a5"
      },
      "execution_count": 13,
      "outputs": [
        {
          "output_type": "stream",
          "name": "stdout",
          "text": [
            "1\n"
          ]
        }
      ]
    },
    {
      "cell_type": "code",
      "source": [
        "def deal_with_multiple_exposes(df):\n",
        "  # get timestamps of first and last exposure, number of exposure and number of conversions\n",
        "  df1 = df.groupby(['user_id', 'group', 'landing_page'])\\\n",
        "    .agg({'timestamp': ['min', 'max'], 'converted': ['count', 'sum']})\n",
        "  \n",
        "  df1.columns = df1.columns.droplevel(0)\n",
        "  df2 = df1.reset_index()\n",
        "  df2['converted'] = df2.apply(lambda x: int(x['sum'] > 0), axis=1) # 1 if user has 1 conversion\n",
        "  df2['conversion_rate'] = 1.0*df2['sum']/df2['count'] # number of conversions divided by number of exposures\n",
        "  return df2 # one user will only have 1 row"
      ],
      "metadata": {
        "id": "tVTVwNsrho0t"
      },
      "execution_count": 14,
      "outputs": []
    },
    {
      "cell_type": "code",
      "source": [
        "data3 = deal_with_multiple_exposes(data2)"
      ],
      "metadata": {
        "id": "HI7V_OazsN-B"
      },
      "execution_count": 15,
      "outputs": []
    },
    {
      "cell_type": "code",
      "source": [
        "check_multi_exposes(data3)"
      ],
      "metadata": {
        "colab": {
          "base_uri": "https://localhost:8080/"
        },
        "id": "hJsubm7Si9v1",
        "outputId": "05505603-0a2b-4fd4-febb-8ee423acd686"
      },
      "execution_count": 16,
      "outputs": [
        {
          "output_type": "stream",
          "name": "stdout",
          "text": [
            "0\n"
          ]
        }
      ]
    },
    {
      "cell_type": "code",
      "source": [
        "## Sanity check\n",
        "def check_imbalance(df):\n",
        "  # count number of users in treatment vs. control\n",
        "  df1 = df[['user_id', 'group']].groupby(['group']).count().reset_index()\n",
        "  print(df1)\n",
        "  pvalue = stats.binomtest(df1[df1['group'] == 'treatment']['user_id'].values[0],\n",
        "                            n=df1['user_id'].sum(),\n",
        "                            p=0.5,\n",
        "                            alternative='two-sided')\n",
        "  # test whether treatment vs. control has equal sample size\n",
        "  print(pvalue)"
      ],
      "metadata": {
        "id": "kEPHxez1sJKV"
      },
      "execution_count": 17,
      "outputs": []
    },
    {
      "cell_type": "code",
      "source": [
        "check_imbalance(data3)"
      ],
      "metadata": {
        "colab": {
          "base_uri": "https://localhost:8080/"
        },
        "id": "_V4U-hvdvmnf",
        "outputId": "3302c464-f2db-481d-bddb-be0bcc8642e6"
      },
      "execution_count": 18,
      "outputs": [
        {
          "output_type": "stream",
          "name": "stdout",
          "text": [
            "       group  user_id\n",
            "0    control   143293\n",
            "1  treatment   143398\n",
            "BinomTestResult(k=143398, n=286691, alternative='two-sided', statistic=0.500183123990638, pvalue=0.8459923345444519)\n"
          ]
        }
      ]
    },
    {
      "cell_type": "markdown",
      "source": [
        "# Hypothesis Testing"
      ],
      "metadata": {
        "id": "dxkDnrUaxw8D"
      }
    },
    {
      "cell_type": "code",
      "source": [
        "def calculate_pvalue(df):\n",
        "\n",
        "  n_treatment = df[df['group'] == 'treatment']['user_id'].count() # get number of users in treatment\n",
        "  n_control = df[df['group'] == 'control']['user_id'].count() # number of users in control\n",
        "\n",
        "  # probability of a user in treatment to convert\n",
        "  p_treatment = 1.0*df[df['group'] == 'treatment']['converted'].sum()/ n_treatment\n",
        "\n",
        "  # probability of a user in control to convert\n",
        "  p_control = 1.0*df[df['group'] == 'control']['converted'].sum() / n_control\n",
        "\n",
        "  # variance of probability of a user in treatment to convert\n",
        "  var_treatment = p_treatment*(1-p_treatment) # p(1-p)\n",
        "\n",
        "  # variance of probability of a user in control to convert\n",
        "  var_control = p_control*(1-p_control) # p(1-p)\n",
        "\n",
        "  # delta of a probability that user convert in treatment vs. control\n",
        "  p_delta = p_treatment - p_control \n",
        "  print(f\"this is p_delta {p_delta}\")\n",
        "\n",
        "  # pooled standard error of t-test\n",
        "  pooled_se = np.sqrt(var_treatment/n_treatment + var_control/n_control)\n",
        "\n",
        "  # t-statistic\n",
        "  t_stat = p_delta / pooled_se\n",
        "\n",
        "  dof = (var_treatment/n_treatment + var_control/n_control)**2\\\n",
        "        / (var_treatment**2/(n_treatment**2*(n_treatment-1)) + var_control**2/(n_control**2*(n_control-1)))\n",
        "  \n",
        "  # p value of t-test\n",
        "  p_value = 2*t.cdf(-abs(t_stat), dof)\n",
        "  print(f\"This is p_value {p_value}\")\n",
        "\n",
        "  # lower bound of confidence interval\n",
        "  lower = p_delta - t.ppf(0.975, dof)*pooled_se\n",
        "\n",
        "  # upper bound of confidence interval\n",
        "  upper = p_delta + t.ppf(0.975, dof)*pooled_se\n",
        "\n",
        "  print(f\"lower bound {lower}\")\n",
        "  print(f\"upper bound {upper}\")\n",
        "\n"
      ],
      "metadata": {
        "id": "sn_FeLIYxyYk"
      },
      "execution_count": 23,
      "outputs": []
    },
    {
      "cell_type": "code",
      "source": [
        "calculate_pvalue(data3)"
      ],
      "metadata": {
        "id": "nro7u0w8SISC",
        "outputId": "9fca10a3-1779-490e-a212-b5b9a8ae6845",
        "colab": {
          "base_uri": "https://localhost:8080/"
        }
      },
      "execution_count": 24,
      "outputs": [
        {
          "output_type": "stream",
          "name": "stdout",
          "text": [
            "this is p_delta -0.0014478458686042056\n",
            "This is p_value 0.23202039224946788\n",
            "lower bound -0.0038221778568021604\n",
            "upper bound 0.0009264861195937492\n"
          ]
        }
      ]
    },
    {
      "cell_type": "markdown",
      "source": [
        "# Power Calculation"
      ],
      "metadata": {
        "id": "Q4ndN4BFSMEJ"
      }
    },
    {
      "cell_type": "markdown",
      "source": [
        "In power analysis we can compute minimum detectable effect"
      ],
      "metadata": {
        "id": "-K9bERhQSu00"
      }
    },
    {
      "cell_type": "code",
      "source": [
        "def cal_mde(df):\n",
        "  n_treatment = df[df['group'] == 'treatment']['user_id'].count() # get number of users in treatment\n",
        "  n_control = df[df['group'] == 'control']['user_id'].count() # number of users in control\n",
        "\n",
        "  power_analysis = smp.TTestIndPower()\n",
        "\n",
        "  effect_size = power_analysis.solve_power(\n",
        "      nobs1=n_control, power=0.8, alpha=0.05, ratio=1.0*n_treatment/n_control, alternative='two-sided'\n",
        "  )\n",
        "\n",
        "  p = 1.0*df['converted'].sum() / df['user_id'].count() # probability of a user to convert\n",
        "  sd = np.sqrt(p*(1-p)) # standard deviation of user to convert\n",
        "  mde = effect_size*sd # minimum detectable effect with the current sample size\n",
        "  print(f\"this is minimum detectable effect {mde}\")\n",
        "\n",
        "  # probability of user in treatment to convert\n",
        "  p_treatment = 1.0*df[df['group'] == 'treatment']['converted'].sum() / n_treatment\n",
        "\n",
        "  # probability of user in control to convert\n",
        "  p_control = 1.0*df[df['group'] == 'control']['converted'].sum() / n_treatment\n",
        "\n",
        "  # measured delta of the probability of a user to convert in treatment vs. control\n",
        "  p_delta = p_treatment - p_control\n",
        "\n",
        "  # the required sample size when setting the currently measured delta as the minimum detectable effect\n",
        "  n = power_analysis.solve_power(\n",
        "        effect_size=1.0*p_delta/sd, power=0.8, alpha=0.05, ratio=1.0, alternative='two-sided'\n",
        "    )\n",
        "  \n",
        "  print(f\"required sample size {n}\")\n"
      ],
      "metadata": {
        "id": "FLhPxLOOSNGw"
      },
      "execution_count": 29,
      "outputs": []
    },
    {
      "cell_type": "code",
      "source": [
        "cal_mde(data3)"
      ],
      "metadata": {
        "id": "XiZuQ48VU2Kc",
        "outputId": "6bd83bfa-b11d-4768-92fc-ebacc81c5208",
        "colab": {
          "base_uri": "https://localhost:8080/"
        }
      },
      "execution_count": 30,
      "outputs": [
        {
          "output_type": "stream",
          "name": "stdout",
          "text": [
            "this is minimum detectable effect 0.0033939097036790812\n",
            "required sample size 892876.8943090558\n"
          ]
        }
      ]
    },
    {
      "cell_type": "markdown",
      "source": [
        "# validation"
      ],
      "metadata": {
        "id": "JwM37d3kU4QO"
      }
    },
    {
      "cell_type": "code",
      "source": [
        "X = pd.get_dummies(data3['group'], drop_first=True)\n",
        "y = data3['converted']\n",
        "\n",
        "X2 = sm.add_constant(X)\n",
        "est = sm.OLS(y, X2)\n",
        "est2 = est.fit()\n",
        "print(est2.summary())"
      ],
      "metadata": {
        "id": "QEmJPrIPU4B-",
        "outputId": "c05f251f-0011-4bae-d8aa-13e1c3b46f82",
        "colab": {
          "base_uri": "https://localhost:8080/"
        }
      },
      "execution_count": 31,
      "outputs": [
        {
          "output_type": "stream",
          "name": "stdout",
          "text": [
            "                            OLS Regression Results                            \n",
            "==============================================================================\n",
            "Dep. Variable:              converted   R-squared:                       0.000\n",
            "Model:                            OLS   Adj. R-squared:                  0.000\n",
            "Method:                 Least Squares   F-statistic:                     1.428\n",
            "Date:                Mon, 13 Mar 2023   Prob (F-statistic):              0.232\n",
            "Time:                        05:17:37   Log-Likelihood:                -83972.\n",
            "No. Observations:              286691   AIC:                         1.679e+05\n",
            "Df Residuals:                  286689   BIC:                         1.680e+05\n",
            "Df Model:                           1                                         \n",
            "Covariance Type:            nonrobust                                         \n",
            "==============================================================================\n",
            "                 coef    std err          t      P>|t|      [0.025      0.975]\n",
            "------------------------------------------------------------------------------\n",
            "const          0.1202      0.001    140.266      0.000       0.118       0.122\n",
            "treatment     -0.0014      0.001     -1.195      0.232      -0.004       0.001\n",
            "==============================================================================\n",
            "Omnibus:                   124031.444   Durbin-Watson:                   2.000\n",
            "Prob(Omnibus):                  0.000   Jarque-Bera (JB):           410100.083\n",
            "Skew:                           2.347   Prob(JB):                         0.00\n",
            "Kurtosis:                       6.507   Cond. No.                         2.62\n",
            "==============================================================================\n",
            "\n",
            "Notes:\n",
            "[1] Standard Errors assume that the covariance matrix of the errors is correctly specified.\n"
          ]
        }
      ]
    }
  ]
}